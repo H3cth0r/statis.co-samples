{
 "cells": [
  {
   "cell_type": "markdown",
   "id": "5d0a38ab-8546-481d-8bf4-298dd97e8624",
   "metadata": {},
   "source": [
    "## Training Data Set Design V2"
   ]
  },
  {
   "cell_type": "markdown",
   "id": "69972fbb-2c66-4bf4-baad-f08f835772e3",
   "metadata": {},
   "source": [
    "1. Download Data\n",
    "2. Calculate Indicators\n",
    "3. Normalize Data"
   ]
  },
  {
   "cell_type": "code",
   "execution_count": 1,
   "id": "8eece334-dfaf-467a-b055-80415b00ce46",
   "metadata": {},
   "outputs": [],
   "source": [
    "from statisco import StockDataFrame"
   ]
  },
  {
   "cell_type": "code",
   "execution_count": 2,
   "id": "d4f3f4dd-380e-4b1e-b53f-ca8381b92968",
   "metadata": {},
   "outputs": [],
   "source": [
    "msft = StockDataFrame(ticker=\"MSFT\", start=\"2022-01-01\", end=\"2022-12-31\", interval=\"1d\")"
   ]
  },
  {
   "cell_type": "code",
   "execution_count": 3,
   "id": "78b8a5dc-5c32-4208-83ad-95344ce4d7ef",
   "metadata": {},
   "outputs": [],
   "source": [
    "initial_stock_dataframe_size = int(len(msft)*0.2)\n",
    "msft_live = msft.iloc[:initial_stock_dataframe_size]"
   ]
  },
  {
   "cell_type": "code",
   "execution_count": 4,
   "id": "784ae0f0-e0ef-41af-b3fe-b7b66917d1d0",
   "metadata": {},
   "outputs": [
    {
     "name": "stdout",
     "output_type": "stream",
     "text": [
      "complete dataframe shape: (251, 6)\n",
      "initial live dataframe shape: (50, 6)\n"
     ]
    }
   ],
   "source": [
    "print(f\"complete dataframe shape: {msft.shape}\")\n",
    "print(f\"initial live dataframe shape: {msft_live.shape}\")"
   ]
  },
  {
   "cell_type": "code",
   "execution_count": null,
   "id": "0dabb494-d7be-494b-be35-d09dcaca4b73",
   "metadata": {},
   "outputs": [],
   "source": []
  }
 ],
 "metadata": {
  "kernelspec": {
   "display_name": "Python (statisco-venv)",
   "language": "python",
   "name": "venv"
  },
  "language_info": {
   "codemirror_mode": {
    "name": "ipython",
    "version": 3
   },
   "file_extension": ".py",
   "mimetype": "text/x-python",
   "name": "python",
   "nbconvert_exporter": "python",
   "pygments_lexer": "ipython3",
   "version": "3.10.14"
  }
 },
 "nbformat": 4,
 "nbformat_minor": 5
}
