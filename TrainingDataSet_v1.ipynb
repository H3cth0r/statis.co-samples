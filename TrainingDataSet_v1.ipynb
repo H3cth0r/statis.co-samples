{
 "cells": [
  {
   "cell_type": "markdown",
   "id": "6bbd79b2-eea8-4bb9-9ffd-68ceb38fd0b0",
   "metadata": {},
   "source": [
    "# Training Data Set Design V1"
   ]
  },
  {
   "cell_type": "code",
   "execution_count": 2,
   "id": "c37b8af2-ca67-4c47-8844-14bae0576197",
   "metadata": {},
   "outputs": [],
   "source": [
    "from statisco import StockDataFrame"
   ]
  },
  {
   "cell_type": "markdown",
   "id": "c0824290-f795-4bfe-9fa6-e80e8a3873e7",
   "metadata": {},
   "source": [
    "## Download Ticker Data"
   ]
  },
  {
   "cell_type": "code",
   "execution_count": 3,
   "id": "1f3dc1c1-3bc8-4006-9424-72d7a8b34bd2",
   "metadata": {},
   "outputs": [],
   "source": [
    "msft = StockDataFrame(ticker=\"MSFT\", start=\"2022-01-01\", end=\"2022-12-31\", interval=\"1d\")"
   ]
  },
  {
   "cell_type": "markdown",
   "id": "3bb2e151-8460-4956-9ce1-b222fd1f2384",
   "metadata": {},
   "source": [
    "## Make indicators calculation"
   ]
  },
  {
   "cell_type": "code",
   "execution_count": 5,
   "id": "96675bbb-2eda-436d-b46e-dd4e32155515",
   "metadata": {},
   "outputs": [],
   "source": [
    "msft.calculate(close_returns=True)\n",
    "msft.calculate(sma=True, interval=3)\n",
    "msft.calculate(ema=True, interval=3, smooth=3)\n",
    "msft.calculate(wma=True, interval=3)\n",
    "msft.calculate(atr=True, interval=3)\n",
    "msft.calculate_MACD(short_window=12, long_window=26, signal_window=9)"
   ]
  },
  {
   "cell_type": "markdown",
   "id": "a060dfc5-3456-4bec-8f9d-745284713b8c",
   "metadata": {},
   "source": [
    "## Normalize Dataset"
   ]
  },
  {
   "cell_type": "code",
   "execution_count": 6,
   "id": "3139b65d-e86f-49a2-9101-b8c2b9f68844",
   "metadata": {},
   "outputs": [],
   "source": [
    "# inplace False, so that it wont apply normalization\n",
    "# to the original dataset\n",
    "msft.normalize(inplace=False)"
   ]
  },
  {
   "cell_type": "code",
   "execution_count": 7,
   "id": "14edee75-5d9f-43b5-ab3b-342a3ae2991b",
   "metadata": {},
   "outputs": [
    {
     "data": {
      "text/html": [
       "<div>\n",
       "<style scoped>\n",
       "    .dataframe tbody tr th:only-of-type {\n",
       "        vertical-align: middle;\n",
       "    }\n",
       "\n",
       "    .dataframe tbody tr th {\n",
       "        vertical-align: top;\n",
       "    }\n",
       "\n",
       "    .dataframe thead th {\n",
       "        text-align: right;\n",
       "    }\n",
       "</style>\n",
       "<table border=\"1\" class=\"dataframe\">\n",
       "  <thead>\n",
       "    <tr style=\"text-align: right;\">\n",
       "      <th></th>\n",
       "      <th>Open</th>\n",
       "      <th>High</th>\n",
       "      <th>Low</th>\n",
       "      <th>Close</th>\n",
       "      <th>Adj Close</th>\n",
       "      <th>Volume</th>\n",
       "      <th>CloseReturns</th>\n",
       "      <th>SMA</th>\n",
       "      <th>EMA</th>\n",
       "      <th>WMA</th>\n",
       "      <th>ATR</th>\n",
       "      <th>MACD</th>\n",
       "      <th>MACD_SignalLine</th>\n",
       "      <th>MACD_Histogram</th>\n",
       "    </tr>\n",
       "    <tr>\n",
       "      <th>Date</th>\n",
       "      <th></th>\n",
       "      <th></th>\n",
       "      <th></th>\n",
       "      <th></th>\n",
       "      <th></th>\n",
       "      <th></th>\n",
       "      <th></th>\n",
       "      <th></th>\n",
       "      <th></th>\n",
       "      <th></th>\n",
       "      <th></th>\n",
       "      <th></th>\n",
       "      <th></th>\n",
       "      <th></th>\n",
       "    </tr>\n",
       "  </thead>\n",
       "  <tbody>\n",
       "    <tr>\n",
       "      <th>2022-01-03</th>\n",
       "      <td>1.000000</td>\n",
       "      <td>1.000000</td>\n",
       "      <td>1.000000</td>\n",
       "      <td>1.000000</td>\n",
       "      <td>1.000000</td>\n",
       "      <td>0.242087</td>\n",
       "      <td>0.483967</td>\n",
       "      <td>2.121737e-312</td>\n",
       "      <td>0.000000</td>\n",
       "      <td>0.000000</td>\n",
       "      <td>0.000000</td>\n",
       "      <td>0.560193</td>\n",
       "      <td>0.549652</td>\n",
       "      <td>0.544339</td>\n",
       "    </tr>\n",
       "    <tr>\n",
       "      <th>2022-01-04</th>\n",
       "      <td>0.995586</td>\n",
       "      <td>0.976189</td>\n",
       "      <td>0.968543</td>\n",
       "      <td>0.952365</td>\n",
       "      <td>0.951806</td>\n",
       "      <td>0.288983</td>\n",
       "      <td>0.376412</td>\n",
       "      <td>0.000000e+00</td>\n",
       "      <td>0.000000</td>\n",
       "      <td>0.000000</td>\n",
       "      <td>0.000000</td>\n",
       "      <td>0.534384</td>\n",
       "      <td>0.543596</td>\n",
       "      <td>0.491326</td>\n",
       "    </tr>\n",
       "    <tr>\n",
       "      <th>2022-01-05</th>\n",
       "      <td>0.919440</td>\n",
       "      <td>0.898546</td>\n",
       "      <td>0.881392</td>\n",
       "      <td>0.847552</td>\n",
       "      <td>0.845760</td>\n",
       "      <td>0.379838</td>\n",
       "      <td>0.243177</td>\n",
       "      <td>1.000000e+00</td>\n",
       "      <td>1.000000</td>\n",
       "      <td>1.000000</td>\n",
       "      <td>1.000000</td>\n",
       "      <td>0.457671</td>\n",
       "      <td>0.520751</td>\n",
       "      <td>0.344348</td>\n",
       "    </tr>\n",
       "    <tr>\n",
       "      <th>2022-01-06</th>\n",
       "      <td>0.811545</td>\n",
       "      <td>0.835870</td>\n",
       "      <td>0.842802</td>\n",
       "      <td>0.826805</td>\n",
       "      <td>0.824769</td>\n",
       "      <td>0.374812</td>\n",
       "      <td>0.434402</td>\n",
       "      <td>9.787071e-01</td>\n",
       "      <td>0.988047</td>\n",
       "      <td>0.980174</td>\n",
       "      <td>0.237505</td>\n",
       "      <td>0.387496</td>\n",
       "      <td>0.486008</td>\n",
       "      <td>0.240196</td>\n",
       "    </tr>\n",
       "    <tr>\n",
       "      <th>2022-01-07</th>\n",
       "      <td>0.820034</td>\n",
       "      <td>0.817161</td>\n",
       "      <td>0.830769</td>\n",
       "      <td>0.828133</td>\n",
       "      <td>0.826113</td>\n",
       "      <td>0.289545</td>\n",
       "      <td>0.487165</td>\n",
       "      <td>9.634338e-01</td>\n",
       "      <td>0.985435</td>\n",
       "      <td>0.971343</td>\n",
       "      <td>0.215877</td>\n",
       "      <td>0.335203</td>\n",
       "      <td>0.445943</td>\n",
       "      <td>0.193607</td>\n",
       "    </tr>\n",
       "  </tbody>\n",
       "</table>\n",
       "</div>"
      ],
      "text/plain": [
       "                Open      High       Low     Close  Adj Close    Volume  \\\n",
       "Date                                                                      \n",
       "2022-01-03  1.000000  1.000000  1.000000  1.000000   1.000000  0.242087   \n",
       "2022-01-04  0.995586  0.976189  0.968543  0.952365   0.951806  0.288983   \n",
       "2022-01-05  0.919440  0.898546  0.881392  0.847552   0.845760  0.379838   \n",
       "2022-01-06  0.811545  0.835870  0.842802  0.826805   0.824769  0.374812   \n",
       "2022-01-07  0.820034  0.817161  0.830769  0.828133   0.826113  0.289545   \n",
       "\n",
       "            CloseReturns            SMA       EMA       WMA       ATR  \\\n",
       "Date                                                                    \n",
       "2022-01-03      0.483967  2.121737e-312  0.000000  0.000000  0.000000   \n",
       "2022-01-04      0.376412   0.000000e+00  0.000000  0.000000  0.000000   \n",
       "2022-01-05      0.243177   1.000000e+00  1.000000  1.000000  1.000000   \n",
       "2022-01-06      0.434402   9.787071e-01  0.988047  0.980174  0.237505   \n",
       "2022-01-07      0.487165   9.634338e-01  0.985435  0.971343  0.215877   \n",
       "\n",
       "                MACD  MACD_SignalLine  MACD_Histogram  \n",
       "Date                                                   \n",
       "2022-01-03  0.560193         0.549652        0.544339  \n",
       "2022-01-04  0.534384         0.543596        0.491326  \n",
       "2022-01-05  0.457671         0.520751        0.344348  \n",
       "2022-01-06  0.387496         0.486008        0.240196  \n",
       "2022-01-07  0.335203         0.445943        0.193607  "
      ]
     },
     "execution_count": 7,
     "metadata": {},
     "output_type": "execute_result"
    }
   ],
   "source": [
    "msft.head()"
   ]
  },
  {
   "cell_type": "code",
   "execution_count": null,
   "id": "03b4eed6-39af-4f6a-833d-1809180b9f9f",
   "metadata": {},
   "outputs": [],
   "source": []
  }
 ],
 "metadata": {
  "kernelspec": {
   "display_name": "Python (statisco-venv)",
   "language": "python",
   "name": "venv"
  },
  "language_info": {
   "codemirror_mode": {
    "name": "ipython",
    "version": 3
   },
   "file_extension": ".py",
   "mimetype": "text/x-python",
   "name": "python",
   "nbconvert_exporter": "python",
   "pygments_lexer": "ipython3",
   "version": "3.10.14"
  }
 },
 "nbformat": 4,
 "nbformat_minor": 5
}
